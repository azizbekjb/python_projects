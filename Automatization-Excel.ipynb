{
 "cells": [
  {
   "cell_type": "code",
   "execution_count": 11,
   "id": "7e97947f-36f4-473b-b61b-562b48482b28",
   "metadata": {},
   "outputs": [],
   "source": [
    "#------------------------------------------------------AUTOMATIZATION-EXCEL------------------------------------------------------#\n",
    "# Create file and write to it\n",
    "\n",
    "# load important library\n",
    "from openpyxl import Workbook\n",
    "# To create a file\n",
    "wb = Workbook()\n",
    "\n",
    "# load the active sheet\n",
    "sheet = wb.active\n",
    "\n",
    "# Write an information to file\n",
    "sheet[\"A1\"] = \"Ism\"\n",
    "sheet[\"B1\"] = \"Familiya\"\n",
    "sheet[\"C1\"] = \"Yosh\"\n",
    "sheet[\"A2\"] = \"Azizbek\"\n",
    "sheet[\"B2\"] = \"Jabborov\"\n",
    "sheet[\"C2\"] = 19\n",
    "\n",
    "# Save file \n",
    "wb.save(\"author.xlsx\")\n"
   ]
  },
  {
   "cell_type": "code",
   "execution_count": 12,
   "id": "b593f544-bd09-42ff-afb4-070c228b977b",
   "metadata": {},
   "outputs": [
    {
     "name": "stdout",
     "output_type": "stream",
     "text": [
      "Name: Azizbek\n",
      "Surname: Jabborov\n",
      "Age: 19\n"
     ]
    }
   ],
   "source": [
    "# Opening and readind an existing Excel file\n",
    "\n",
    "#load important library\n",
    "from openpyxl import load_workbook\n",
    "\n",
    "# open an existing file\n",
    "wb = load_workbook(\"author.xlsx\")\n",
    "sheet = wb.active\n",
    "#Read the value in cells A2, B2 and C2\n",
    "name = sheet['A2'].value\n",
    "surname = sheet['B2'].value\n",
    "age = sheet['C2'].value\n",
    "\n",
    "# print the result\n",
    "print(f\"Name: {name}\\nSurname: {surname}\\nAge: {age}\")"
   ]
  },
  {
   "cell_type": "code",
   "execution_count": 13,
   "id": "a57ec51c-04a9-4380-b02f-7ddf197790d1",
   "metadata": {},
   "outputs": [],
   "source": [
    "# Examples: Add more data to the table (from the list) \n",
    "wb = Workbook()\n",
    "sheet = wb.active\n",
    "\n",
    "# titles\n",
    "sheet.append([\"Ism\", \"Familiya\", \"Yosh\"])\n",
    "\n",
    "#data\n",
    "data = [\n",
    "    [\"Azizbek\", \"Jabborov\", 19],\n",
    "    [\"Sardor\", \"Tolliboyev\", 20],\n",
    "    [\"Azizbek\", \"Hojiyev\", 20]\n",
    "]\n",
    "\n",
    "#add to the table each one\n",
    "for row in data:\n",
    "    sheet.append(row)\n",
    "wb.save(\"user.xlsx\")"
   ]
  },
  {
   "cell_type": "code",
   "execution_count": null,
   "id": "04e0fb3b-17ea-4a02-a8bd-6e8b94faabd0",
   "metadata": {},
   "outputs": [],
   "source": [
    "#Part-1--------------------------------------------------Getting-started-with-colors--------------------------------------------"
   ]
  },
  {
   "cell_type": "code",
   "execution_count": 14,
   "id": "969e0b0e-9c4c-4deb-9a02-58df5200ae31",
   "metadata": {},
   "outputs": [],
   "source": [
    "# Examples: Change the color of cell\n",
    "\n",
    "#Load important class(or method)\n",
    "from openpyxl.styles import PatternFill\n",
    "\n",
    "#Create a new file\n",
    "wb = Workbook()\n",
    "sheet = wb.active\n",
    "\n",
    "# Write the information to file\n",
    "sheet['A1'] = \"Hello, Azizbek\"\n",
    "\n",
    "# We give the cell a yellow background color.\n",
    "yellow_color = PatternFill(start_color=\"FFFF00\", end_color=\"FFFF00\", fill_type=\"solid\")\n",
    "sheet['A1'].fill = yellow_color\n",
    "\n",
    "# Save it\n",
    "wb.save(\"Colored Cell.xlsx\")\n",
    "\n",
    "#Comment: We use 'for' for filling background color of cellfor i in range(1, 6):\n",
    "    # katak = f\"A{i}\"\n",
    "    # sheet[katak] = f\"Qator {i}\"\n",
    "    # sheet[katak].fill = PatternFill(start_color=\"00FFCC\", end_color=\"00FFCC\", fill_type=\"solid\")\n"
   ]
  },
  {
   "cell_type": "code",
   "execution_count": 15,
   "id": "e727415d-280e-4682-814d-8698f2fb8351",
   "metadata": {},
   "outputs": [],
   "source": [
    "#Examples: Change the font of text\n",
    "\n",
    "#load important class\n",
    "from openpyxl.styles import Font\n",
    "# Make text red and bold\n",
    "red_font = Font(color=\"FF0000\", bold=True)\n",
    "\n",
    "sheet['A1'].font = red_font\n"
   ]
  },
  {
   "cell_type": "code",
   "execution_count": 17,
   "id": "07da7bd5-1f89-483b-b08b-437a8587b22b",
   "metadata": {},
   "outputs": [],
   "source": [
    "#Examples: Color each cell in each row of a table differently\n",
    "from openpyxl.styles import PatternFill\n",
    "colors = [\"FFCCCC\", \"CCFFCC\", \"CCCCFF\", \"FFFF99\", \"FFCCFF\"]\n",
    "for i in range(5):\n",
    "    cell = f\"A{i+1}\"\n",
    "    sheet[cell] = f\"Row{i+1}\"\n",
    "    color = PatternFill(start_color = colors[i], end_color = colors[i], fill_type = \"solid\")\n",
    "    sheet[cell].fill = color"
   ]
  },
  {
   "cell_type": "code",
   "execution_count": 18,
   "id": "3fac6840-86f6-4db6-931f-d67ea537f3f1",
   "metadata": {},
   "outputs": [],
   "source": [
    "#Examples: Changing the fontname and size of text\n",
    "\n",
    "cell_font = Font(name=\"Calibri\", size=14, bold=True, color=\"0000FF\")\n",
    "sheet['B1'] = \"Salom!\"\n",
    "sheet[\"B1\"].font = cell_font"
   ]
  },
  {
   "cell_type": "code",
   "execution_count": 19,
   "id": "3aa31e85-6ec2-472c-a9de-098c448d01d9",
   "metadata": {},
   "outputs": [],
   "source": [
    "#Full example: color+text design\n",
    "\n",
    "from openpyxl import Workbook\n",
    "from openpyxl.styles import Font, PatternFill\n",
    "wb = Workbook()\n",
    "sheet = wb.active\n",
    "\n",
    "# Table title\n",
    "sheet['A1'] = \"Ism\"\n",
    "sheet[\"B1\"] = \"Yosh\"\n",
    "\n",
    "# Title design \n",
    "title_font = Font(bold=True, color = \"FFFFFF\")\n",
    "title_fill = PatternFill(start_color = \"0000FF\", end_color=\"0000FF\", fill_type=\"solid\")\n",
    "for cell in ['A1', 'B1']:\n",
    "    sheet[cell].font = title_font\n",
    "    sheet[cell].fill = title_fill\n",
    "    \n",
    "# Datas\n",
    "datas = [(\"Azizbek\", 22), (\"Ali\", 30), (\"Dildora\", 28)]\n",
    "\n",
    "for i, (name, age) in enumerate(datas, start=2):\n",
    "    sheet[f\"A{i}\"] = name\n",
    "    sheet[f\"B{i}\"] = age\n",
    "\n",
    "    # Colors with queue\n",
    "    color = \"F0F8FF\" if i % 2 == 0 else \"E6E6FA\"\n",
    "    fill = PatternFill(start_color=color, end_color=color, fill_type=\"solid\")\n",
    "    sheet[f\"A{i}\"].fill = fill\n",
    "    sheet[f\"B{i}\"].fill = fill\n",
    "\n",
    "wb.save(\"Colored table.xlsx\")"
   ]
  },
  {
   "cell_type": "code",
   "execution_count": 20,
   "id": "96afa831-36ce-4e7c-954f-a15387e0d1e3",
   "metadata": {},
   "outputs": [],
   "source": [
    "#Part-1-------------------------------------------Finish-working-with-colors---------------------------------------"
   ]
  },
  {
   "cell_type": "code",
   "execution_count": null,
   "id": "3b011863-3deb-48dd-b0e3-4dcc85688f2a",
   "metadata": {},
   "outputs": [],
   "source": []
  }
 ],
 "metadata": {
  "kernelspec": {
   "display_name": "Python 3 (ipykernel)",
   "language": "python",
   "name": "python3"
  },
  "language_info": {
   "codemirror_mode": {
    "name": "ipython",
    "version": 3
   },
   "file_extension": ".py",
   "mimetype": "text/x-python",
   "name": "python",
   "nbconvert_exporter": "python",
   "pygments_lexer": "ipython3",
   "version": "3.12.2"
  }
 },
 "nbformat": 4,
 "nbformat_minor": 5
}
