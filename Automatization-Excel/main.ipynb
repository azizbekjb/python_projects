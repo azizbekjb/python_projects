{
 "cells": [
  {
   "cell_type": "code",
   "execution_count": 2,
   "id": "7e97947f-36f4-473b-b61b-562b48482b28",
   "metadata": {},
   "outputs": [],
   "source": [
    "#------------------------------------------------------AUTOMATIZATION-EXCEL------------------------------------------------------#\n",
    "# Create file and write to it\n",
    "\n",
    "# load important library\n",
    "from openpyxl import Workbook\n",
    "# To create a file\n",
    "wb = Workbook()\n",
    "\n",
    "# load the active sheet\n",
    "sheet = wb.active\n",
    "\n",
    "# Write an information to file\n",
    "sheet[\"A1\"] = \"Ism\"\n",
    "sheet[\"B1\"] = \"Familiya\"\n",
    "sheet[\"C1\"] = \"Yosh\"\n",
    "sheet[\"A2\"] = \"Azizbek\"\n",
    "sheet[\"B2\"] = \"Jabborov\"\n",
    "sheet[\"C2\"] = 19\n",
    "\n",
    "# Save file \n",
    "wb.save(\"author.xlsx\")\n"
   ]
  },
  {
   "cell_type": "code",
   "execution_count": 3,
   "id": "b593f544-bd09-42ff-afb4-070c228b977b",
   "metadata": {},
   "outputs": [
    {
     "name": "stdout",
     "output_type": "stream",
     "text": [
      "Name: Azizbek\n",
      "Surname: Jabborov\n",
      "Age: 19\n"
     ]
    }
   ],
   "source": [
    "# Opening and readind an existing Excel file\n",
    "\n",
    "#load important library\n",
    "from openpyxl import load_workbook\n",
    "\n",
    "# open an existing file\n",
    "wb = load_workbook(\"author.xlsx\")\n",
    "sheet = wb.active\n",
    "#Read the value in cells A2, B2 and C2\n",
    "name = sheet['A2'].value\n",
    "surname = sheet['B2'].value\n",
    "age = sheet['C2'].value\n",
    "\n",
    "# print the result\n",
    "print(f\"Name: {name}\\nSurname: {surname}\\nAge: {age}\")"
   ]
  },
  {
   "cell_type": "code",
   "execution_count": 6,
   "id": "a57ec51c-04a9-4380-b02f-7ddf197790d1",
   "metadata": {},
   "outputs": [],
   "source": [
    "# Examples: Add more data to the table (from the list) \n",
    "wb = Workbook()\n",
    "sheet = wb.active\n",
    "\n",
    "# titles\n",
    "sheet.append([\"Ism\", \"Familiya\", \"Yosh\"])\n",
    "\n",
    "#data\n",
    "data = [\n",
    "    [\"Azizbek\", \"Jabborov\", 19],\n",
    "    [\"Sardor\", \"Tolliboyev\", 20],\n",
    "    [\"Azizbek\", \"Hojiyev\", 20]\n",
    "]\n",
    "\n",
    "#add to the table each one\n",
    "for row in data:\n",
    "    sheet.append(row)\n",
    "wb.save(\"user.xlsx\")"
   ]
  },
  {
   "cell_type": "code",
   "execution_count": null,
   "id": "969e0b0e-9c4c-4deb-9a02-58df5200ae31",
   "metadata": {},
   "outputs": [],
   "source": []
  }
 ],
 "metadata": {
  "kernelspec": {
   "display_name": "Python 3 (ipykernel)",
   "language": "python",
   "name": "python3"
  },
  "language_info": {
   "codemirror_mode": {
    "name": "ipython",
    "version": 3
   },
   "file_extension": ".py",
   "mimetype": "text/x-python",
   "name": "python",
   "nbconvert_exporter": "python",
   "pygments_lexer": "ipython3",
   "version": "3.12.2"
  }
 },
 "nbformat": 4,
 "nbformat_minor": 5
}
